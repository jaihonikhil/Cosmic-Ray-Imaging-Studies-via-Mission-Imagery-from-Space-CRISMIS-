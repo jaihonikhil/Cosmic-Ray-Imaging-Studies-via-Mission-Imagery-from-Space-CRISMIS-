{
 "cells": [
  {
   "cell_type": "code",
   "execution_count": 2,
   "metadata": {},
   "outputs": [],
   "source": [
    "# Code for automatically downloading .IMG files and converting them to .png files  which can further be used to make dataset for the machine learning model\n",
    "from bs4 import BeautifulSoup\n",
    "import urllib.request\n",
    "import re\n",
    "import requests\n",
    "import matplotlib.pyplot as plt\n",
    "import numpy as np\n",
    "from PIL import Image\n",
    "import cv2\n",
    "from PIL import Image\n",
    "from pylab import *\n",
    "import struct\n",
    "url=\"https://pdsimage2.wr.usgs.gov/archive/mess-e_v_h-mdis-2-edr-rawdata-v1.0/MSGRMDS_1001/DATA/2011_206/\"#importing the url of the directory we want to download\n",
    "html_page = urllib.request.urlopen(url)\n",
    "soup = BeautifulSoup(html_page)\n",
    "#print(soup.table.findAll)\n",
    "i=0\n",
    "rows = soup.table.find_all('tr')\n",
    "# print(len(rows))\n",
    "for row in rows:\n",
    "    cols = row.find_all('td')\n",
    "    if(len(cols) == 5):\n",
    "        urllink = cols[1].find_all('a')[0].get('href')\n",
    "        if(urllink[-3:] == \"IMG\"):\n",
    "            i=i+1\n",
    "#             print(urllink)\n",
    "            URL=url+urllink\n",
    "            r = requests.get(URL, allow_redirects=True)\n",
    "            img = r.content\n",
    "            decodedimg = unicode(img, errors='ignore')\n",
    "            splitted = decodedimg.split(\"OBJECT = IMAGE\")\n",
    "            #print(len(splitted),\"splitted\",splitted[1].splitlines()[1])\n",
    "            xlen = int(splitted[1].splitlines()[1].split()[-1])\n",
    "            ylen = int(splitted[1].splitlines()[2].split()[-1])\n",
    "            imgdata = img[-xlen*ylen:]\n",
    "#             print(len(imgdata))\n",
    "            y = np.frombuffer(imgdata, dtype=np.uint8)\n",
    "#             print(y.shape)\n",
    "            y = y.reshape(xlen, ylen)\n",
    "            im = Image.fromarray(y)\n",
    "            im.save(\"images2011_206_\"+str(i)+\".png\".format(urllink))"
   ]
  }
 ],
 "metadata": {
  "kernelspec": {
   "display_name": "Python 3",
   "language": "python",
   "name": "python3"
  },
  "language_info": {
   "codemirror_mode": {
    "name": "ipython",
    "version": 3
   },
   "file_extension": ".py",
   "mimetype": "text/x-python",
   "name": "python",
   "nbconvert_exporter": "python",
   "pygments_lexer": "ipython3",
   "version": "3.6.9"
  }
 },
 "nbformat": 4,
 "nbformat_minor": 2
}
