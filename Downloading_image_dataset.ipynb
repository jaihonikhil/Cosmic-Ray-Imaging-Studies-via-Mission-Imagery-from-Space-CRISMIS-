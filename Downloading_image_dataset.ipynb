{
 "cells": [
  {
   "cell_type": "code",
   "execution_count": 4,
   "metadata": {},
   "outputs": [
    {
     "data": {
      "image/png": "[encoded data removed]",
      "text/plain": [
       "<matplotlib.figure.Figure at 0x7f928f8e2e48>"
      ]
     },
     "metadata": {},
     "output_type": "display_data"
    }
   ],
   "source": [
    "# Code for automatically downloading .IMG files and converting them to .png files  which can further be used to make dataset for the machine learning model\n",
    "from bs4 import BeautifulSoup\n",
    "import urllib.request\n",
    "import re\n",
    "import requests\n",
    "import matplotlib.pyplot as plt\n",
    "import numpy as np\n",
    "from PIL import Image\n",
    "import cv2\n",
    "from PIL import Image\n",
    "from pylab import *\n",
    "url=\"https://pdsimage2.wr.usgs.gov/archive/mess-e_v_h-mdis-2-edr-rawdata-v1.0/MSGRMDS_1001/DATA/2011_157/\"#importing the url of the directory we want to download\n",
    "html_page = urllib.request.urlopen(url)\n",
    "soup = BeautifulSoup(html_page)\n",
    "i=0#counts \n",
    "for link in soup.findAll('a'):\n",
    "    if(re.search(\".*IMG$\", link.get('href'))):\n",
    "#         print(link)\n",
    "        i=i+1\n",
    "#         print(link.get('href'))\n",
    "        URL=url+link.get('href')\n",
    "        r = requests.get(URL, allow_redirects=True)\n",
    "        open('google.IMG', 'wb').write(r.content)\n",
    "        input_filename = \"google.IMG\"\n",
    "\n",
    "        dtype = np.dtype('>u2')\n",
    "        fid = open(input_filename, 'rb')\n",
    "        data = np.fromfile(fid, dtype)\n",
    "#         print(np.shape(data))\n",
    "        da=np.shape(data)\n",
    "        da2=int(sqrt(da[0]))\n",
    "#         print(da2)\n",
    "        j=da2\n",
    "        da3=0\n",
    "        while(j>0):\n",
    "            if (da[0]%j==0):\n",
    "#                 print(j)\n",
    "                da3=int(da[0]/j)\n",
    "                break\n",
    "            j=j-1\n",
    "                \n",
    "            \n",
    "#         p=int(da[0]/512)\n",
    "\n",
    "        shape = (da3, j)\n",
    "        image = data.reshape(shape)\n",
    "        # print(image)\n",
    "#         plt.imshow(image)\n",
    "        axis(\"off\")\n",
    "        plt.imsave(\"image156\"+str(i)+\".png\",image,cmap=\"gray\")\n",
    "        # plt.imsave(\"dff2222.png\",image)\n",
    "#         print(i)"
   ]
  }
 ],
 "metadata": {
  "kernelspec": {
   "display_name": "Python 3",
   "language": "python",
   "name": "python3"
  },
  "language_info": {
   "codemirror_mode": {
    "name": "ipython",
    "version": 3
   },
   "file_extension": ".py",
   "mimetype": "text/x-python",
   "name": "python",
   "nbconvert_exporter": "python",
   "pygments_lexer": "ipython3",
   "version": "3.6.9"
  }
 },
 "nbformat": 4,
 "nbformat_minor": 2
}
