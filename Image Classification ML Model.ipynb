{
 "cells": [
  {
   "cell_type": "code",
   "execution_count": null,
   "metadata": {},
   "outputs": [
    {
     "name": "stderr",
     "output_type": "stream",
     "text": [
      "Using TensorFlow backend.\n"
     ]
    },
    {
     "name": "stdout",
     "output_type": "stream",
     "text": [
      "Found 341 images belonging to 2 classes.\n",
      "Found 341 images belonging to 2 classes.\n",
      "Epoch 1/10\n",
      "800/800 [==============================] - 338s 422ms/step - loss: 0.0961 - accuracy: 0.9663 - val_loss: 0.1410 - val_accuracy: 0.9703\n",
      "Epoch 2/10\n",
      "800/800 [==============================] - 358s 448ms/step - loss: 0.0743 - accuracy: 0.9763 - val_loss: 4.9392e-04 - val_accuracy: 0.9800\n",
      "Epoch 3/10\n",
      "618/800 [======================>.......] - ETA: 1:10 - loss: 0.0626 - accuracy: 0.9782"
     ]
    }
   ],
   "source": [
    "# Importing the Keras libraries and packages\n",
    "from keras.models import Sequential\n",
    "from keras.layers import Conv2D\n",
    "from keras.layers import MaxPooling2D\n",
    "from keras.layers import Flatten\n",
    "from keras.layers import Dense\n",
    "# Initialising the CNN\n",
    "classifier = Sequential()\n",
    "# Step 1 - Convolution\n",
    "classifier.add(Conv2D(32, (3, 3), input_shape = (64, 64, 3), activation = 'relu'))\n",
    "# Step 2 - Pooling\n",
    "classifier.add(MaxPooling2D(pool_size = (2, 2)))\n",
    "# Adding a second convolutional layer\n",
    "classifier.add(Conv2D(32, (3, 3), activation = 'relu'))\n",
    "classifier.add(MaxPooling2D(pool_size = (2, 2)))\n",
    "# Step 3 - Flattening\n",
    "classifier.add(Flatten())\n",
    "# Step 4 - Full connection\n",
    "classifier.add(Dense(units = 128, activation = 'relu'))\n",
    "classifier.add(Dense(units = 1, activation = 'sigmoid'))\n",
    "# Compiling the CNN\n",
    "classifier.compile(optimizer = 'adam', loss = 'binary_crossentropy', metrics = ['accuracy'])\n",
    "# Part 2 - Fitting the CNN to the images\n",
    "from keras.preprocessing.image import ImageDataGenerator\n",
    "train_datagen = ImageDataGenerator(rescale = 1./255,\n",
    "shear_range = 0.2,\n",
    "zoom_range = 0.2,\n",
    "horizontal_flip = True)\n",
    "test_datagen = ImageDataGenerator(rescale = 1./255)\n",
    "training_set = train_datagen.flow_from_directory('/home/jaihonikhil/Cosmic-Ray-Imaging-Studies-via-Mission-Imagery-from-Space-CRISMIS-/Dataset/',target_size = (64, 64),batch_size = 32,class_mode = 'binary')\n",
    "test_set = test_datagen.flow_from_directory('/home/jaihonikhil/Cosmic-Ray-Imaging-Studies-via-Mission-Imagery-from-Space-CRISMIS-/Dataset/',target_size = (64, 64),batch_size = 32,class_mode = 'binary')\n",
    "classifier.fit_generator(training_set,\n",
    "steps_per_epoch = 800,\n",
    "epochs = 10,\n",
    "validation_data = test_set,\n",
    "validation_steps = 200)\n",
    "# Part 3 - Making new predictions\n",
    "import numpy as np\n",
    "from keras.preprocessing import image\n",
    "test_image = image.load_img('image2.png', target_size = (64, 64))\n",
    "test_image = image.img_to_array(test_image)\n",
    "test_image = np.expand_dims(test_image, axis = 0)\n",
    "result = classifier.predict(test_image)\n",
    "training_set.class_indices\n",
    "if result[0][0] == 1:\n",
    "    prediction = 'dog'\n",
    "else:\n",
    "    prediction = 'cat'"
   ]
  }
 ],
 "metadata": {
  "kernelspec": {
   "display_name": "Python 3",
   "language": "python",
   "name": "python3"
  },
  "language_info": {
   "codemirror_mode": {
    "name": "ipython",
    "version": 3
   },
   "file_extension": ".py",
   "mimetype": "text/x-python",
   "name": "python",
   "nbconvert_exporter": "python",
   "pygments_lexer": "ipython3",
   "version": "3.6.9"
  }
 },
 "nbformat": 4,
 "nbformat_minor": 2
}
